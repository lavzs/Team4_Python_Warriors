{
 "cells": [
  {
   "cell_type": "code",
   "execution_count": 22,
   "id": "c8a376f4-58f1-48bd-8d36-155169ca1b79",
   "metadata": {},
   "outputs": [],
   "source": [
    "import pandas as pd\n",
    "import numpy as np"
   ]
  },
  {
   "cell_type": "code",
   "execution_count": 24,
   "id": "6b468bee-239a-4f21-b9d3-69a03d08225a",
   "metadata": {},
   "outputs": [],
   "source": [
    "dataset=pd.ExcelFile(\"C:/Users/NagarjunaPujala/Downloads/python_hackathon/V02Max_Combined.xlsx\")"
   ]
  },
  {
   "cell_type": "code",
   "execution_count": 25,
   "id": "161e9606-e540-4a0a-a85d-a6087c027b96",
   "metadata": {},
   "outputs": [
    {
     "name": "stderr",
     "output_type": "stream",
     "text": [
      "C:\\Users\\NagarjunaPujala\\anaconda3\\Lib\\site-packages\\openpyxl\\worksheet\\_read_only.py:81: UserWarning: Unknown extension is not supported and will be removed\n",
      "  for idx, row in parser.parse():\n",
      "C:\\Users\\NagarjunaPujala\\anaconda3\\Lib\\site-packages\\openpyxl\\worksheet\\_read_only.py:81: UserWarning: Unknown extension is not supported and will be removed\n",
      "  for idx, row in parser.parse():\n",
      "C:\\Users\\NagarjunaPujala\\anaconda3\\Lib\\site-packages\\openpyxl\\worksheet\\_read_only.py:81: UserWarning: Unknown extension is not supported and will be removed\n",
      "  for idx, row in parser.parse():\n"
     ]
    }
   ],
   "source": [
    "Athletes=pd.read_excel(dataset, sheet_name='Athletes')\n",
    "Kayaking=pd.read_excel(dataset, sheet_name='Kayaking')\n",
    "Triathlon=pd.read_excel(dataset, sheet_name='Triathlon')\n",
    "Fencing=pd.read_excel(dataset, sheet_name='Fencing')"
   ]
  },
  {
   "cell_type": "code",
   "execution_count": 27,
   "id": "53ac2799-e9d3-44c3-b27d-84c7a8c7d439",
   "metadata": {},
   "outputs": [],
   "source": [
    "# Add a new column to indicate the sport category\n",
    "Kayaking['sport'] = 'Kayaking'\n",
    "Triathlon['sport'] = 'Triathlon'\n",
    "Fencing['sport'] = 'Fencing'\n",
    "# Concatenate the DataFrames\n",
    "All_sports=pd.concat([Kayaking, Triathlon, Fencing], ignore_index=True)\n",
    "#All_sports.head(40)\n",
    "# Set 'sport' as the index\n",
    "All_sports.set_index(['sport'], inplace=True)"
   ]
  },
  {
   "cell_type": "code",
   "execution_count": 9,
   "id": "9bfa1131-1082-4969-8837-7efa277f51cc",
   "metadata": {},
   "outputs": [
    {
     "name": "stdout",
     "output_type": "stream",
     "text": [
      "          ID     time     RR       VO2  power\n",
      "sport                                        \n",
      "Kayaking  11 -168.600  727.0  0.287147      0\n",
      "Kayaking  11 -167.872  728.0  0.287147      0\n",
      "Kayaking  11 -167.148  724.0  0.287147      0\n",
      "Kayaking  11 -166.484  664.0  0.320580      0\n",
      "Kayaking  11 -165.836  648.0  0.320580      0\n",
      "...       ..      ...    ...       ...    ...\n",
      "Fencing   10  942.700  428.0  0.786363      0\n",
      "Fencing   10  943.124  424.0  0.786363      0\n",
      "Fencing   10  943.552  428.0  0.786363      0\n",
      "Fencing   10  943.976  424.0  0.786363      0\n",
      "Fencing   10  944.404  428.0  0.786363      0\n",
      "\n",
      "[52062 rows x 5 columns]\n"
     ]
    }
   ],
   "source": [
    "print(All_sports)"
   ]
  },
  {
   "cell_type": "markdown",
   "id": "4a8bab32-8dc5-4dd5-bccc-61e6c7ee0b36",
   "metadata": {},
   "source": [
    "### 65.Query:\n",
    "   [ 1,  2,  3,  4,  5],\n",
    "   [ 6,  7,  8,  9, 10],\n",
    "   [11, 12, 13, 14, 15],\n",
    "   [16, 17, 18, 19, 20],\n",
    "   [21, 22, 23, 24, 25],\n",
    "   [26, 27, 28, 29, 30]  Use array slicing to display elements 4,7,10,17."
   ]
  },
  {
   "cell_type": "code",
   "execution_count": 14,
   "id": "039c8059-d8de-4c03-8a1d-362bd7a5d6b1",
   "metadata": {},
   "outputs": [
    {
     "name": "stdout",
     "output_type": "stream",
     "text": [
      "4 , 7 , 10 , 17\n"
     ]
    }
   ],
   "source": [
    "# solution:\n",
    "fived_array=np.array([ [ 1,  2,  3,  4,  5],\n",
    "   [ 6,  7,  8,  9, 10],\n",
    "   [11, 12, 13, 14, 15],\n",
    "   [16, 17, 18, 19, 20],\n",
    "   [21, 22, 23, 24, 25],\n",
    "   [26, 27, 28, 29, 30] ])\n",
    "print(fived_array[0][3],\",\",fived_array[1][1],\",\",fived_array[1][4],\",\",fived_array[3][1])"
   ]
  },
  {
   "cell_type": "markdown",
   "id": "ae4843a2-e9b5-4e90-af08-6bcb86899dff",
   "metadata": {},
   "source": [
    "### 66.Query: On average, how long did each participant spend at 200 watts?"
   ]
  },
  {
   "cell_type": "code",
   "execution_count": 18,
   "id": "f5f68aa6-68a4-4ada-a625-aa47abe48243",
   "metadata": {},
   "outputs": [
    {
     "name": "stdout",
     "output_type": "stream",
     "text": [
      "ID\n",
      "3     3.247333\n",
      "4     3.313333\n",
      "5     3.282667\n",
      "6     3.278444\n",
      "9     0.301111\n",
      "10    1.753778\n",
      "11    3.312000\n",
      "12    3.254889\n",
      "13    3.374667\n",
      "14    3.315778\n",
      "15    3.319333\n",
      "16    3.314444\n",
      "18    1.465333\n",
      "Name: time, dtype: float64\n"
     ]
    }
   ],
   "source": [
    "#solution:\n",
    "rslt_df = All_sports.loc[All_sports['power'] == 200]\n",
    "rslt = rslt_df.groupby(['ID'])\n",
    "result=rslt['time'].max()-rslt['time'].min()\n",
    "A=len(pd.unique(All_sports['ID']))\n",
    "print(result/A)"
   ]
  },
  {
   "cell_type": "markdown",
   "id": "7b49f0cb-793c-4dd3-a556-ace24f939c16",
   "metadata": {},
   "source": [
    "### 67.Query:Athletes from which sport had the highest average cardiorespiratory fitness in terms of v02 max?"
   ]
  },
  {
   "cell_type": "code",
   "execution_count": 30,
   "id": "684f7e23-bafb-4be9-8d39-609e666c860f",
   "metadata": {},
   "outputs": [
    {
     "name": "stdout",
     "output_type": "stream",
     "text": [
      "triathlon sport had the highest average cardiorespiratory fitness in terms of vo2 max with value: 77.5\n"
     ]
    }
   ],
   "source": [
    "#solution:\n",
    "sum_vo2=All_sports.groupby(['sport','ID'])['VO2'].sum()\n",
    "df1=pd.merge(sum_vo2,Athletes,on='ID',how='inner')[['ID','VO2','sport','Weight']]\n",
    "for index,row in df1.iterrows():\n",
    "      df1.at[index,'max_vo2']=round(df1.at[index,'VO2']/df1.at[index,'Weight'],2)\n",
    "      df2=df1.groupby('sport')['max_vo2'].mean()\n",
    "print(df2.idxmax(),\"sport had the highest average cardiorespiratory fitness in terms of vo2 max with value:\",df2.max())"
   ]
  },
  {
   "cell_type": "markdown",
   "id": "bb6c8769-9858-4ad8-8f55-b532e68c8299",
   "metadata": {},
   "source": [
    "### 68.Query: What % of athletes exceeded 90% of max HR? (Max HR is calculated as 220-Age)\n"
   ]
  },
  {
   "cell_type": "code",
   "execution_count": 37,
   "id": "7b80309d-3a23-4ea9-8afd-76c5dcb896e9",
   "metadata": {},
   "outputs": [
    {
     "name": "stdout",
     "output_type": "stream",
     "text": [
      "solution\n",
      "Exceeds 90%        94.44%\n",
      "not Exceeds 90%     5.56%\n",
      "Name: proportion, dtype: object\n"
     ]
    }
   ],
   "source": [
    "#solution:\n",
    "All_sports['hr_cal']= (60000/All_sports['RR']).round(2)\n",
    "R_11= All_sports.groupby(['sport','ID'])['hr_cal'].max()\n",
    "df1=pd.merge(R_11,Athletes,on='ID',how='inner')[['ID','hr_cal','sport','age']]\n",
    "for index,row in All_sports.iterrows():\n",
    "    df1['max_HR']= abs(df1['age'].subtract(220))\n",
    "df1.loc[df1['hr_cal']>0.9*df1['max_HR'],\"solution\"]=\"Exceeds 90%\"\n",
    "df1.loc[df1['hr_cal']<=0.9*df1['max_HR'],\"solution\"]=\"not Exceeds 90%\"\n",
    "print(df1['solution'].value_counts(normalize=True).mul(100).round(2).astype(str)+'%')"
   ]
  },
  {
   "cell_type": "markdown",
   "id": "1c170a5c-39b1-4d48-9b20-8edc6a5a1c4f",
   "metadata": {},
   "source": [
    "### 69.Query:What was the lowest heart rate recorded at a power wattage of 200\n"
   ]
  },
  {
   "cell_type": "code",
   "execution_count": 42,
   "id": "da12a4bf-87c8-435a-afc7-a5adfa8b6761",
   "metadata": {},
   "outputs": [
    {
     "name": "stdout",
     "output_type": "stream",
     "text": [
      "ID             3.000000\n",
      "power        200.000000\n",
      "lowest HR     71.770335\n",
      "dtype: float64\n"
     ]
    }
   ],
   "source": [
    "#solution:\n",
    "All_sports['lowest HR'] = 60000/All_sports['RR']\n",
    "rslt_df_2 = All_sports.loc[All_sports['power'] == 200]\n",
    "print(rslt_df_2[['ID','power','lowest HR']].min())"
   ]
  },
  {
   "cell_type": "markdown",
   "id": "f7c0eaf3-af23-4ad7-99b9-fef39ab3c6e2",
   "metadata": {},
   "source": [
    "### 70.Query: On Average how long did most athletes spend at 75% of MaxHR (Max HR is calculated as 220-Age)\n"
   ]
  },
  {
   "cell_type": "code",
   "execution_count": 45,
   "id": "96928ed5-6988-4d95-8338-6c6070d277f6",
   "metadata": {},
   "outputs": [
    {
     "data": {
      "text/plain": [
       "515.1886666666667"
      ]
     },
     "execution_count": 45,
     "metadata": {},
     "output_type": "execute_result"
    }
   ],
   "source": [
    "#solution:\n",
    "Athletes['Max_HR']=220-Athletes['age']\n",
    "Athletes['75%Max_HR']=round(Athletes['Max_HR']*0.75,0)\n",
    "All_sports['HR']=round(60000/All_sports['RR'],0)\n",
    "df1=pd.merge(All_sports,Athletes,on='ID',how='inner')[['ID','75%Max_HR','time','HR']]\n",
    "df2=df1.loc[df1['75%Max_HR']==df1['HR']].reset_index()\n",
    "df3=df2.groupby('ID')['time'].max()-df2.groupby('ID')['time'].min()\n",
    "df3.mean()"
   ]
  },
  {
   "cell_type": "markdown",
   "id": "1ce1e157-e9d3-4070-9f28-2e80e8af4547",
   "metadata": {},
   "source": [
    "### 71.Query: Create a crosstab to show each sport as a column and each heart rate zone as rows with counts of rows that satisfy each condition as values"
   ]
  },
  {
   "cell_type": "code",
   "execution_count": 51,
   "id": "00a47b64-c6f1-4dcb-b84a-21bf578af4a1",
   "metadata": {},
   "outputs": [
    {
     "name": "stdout",
     "output_type": "stream",
     "text": [
      "HR ZONE    ZONE 0  ZONE 1  ZONE 2  ZONE 3  ZONE 4  ZONE 5\n",
      "sport                                                    \n",
      "fencing      2380    4097    5839    5848    7209    2225\n",
      "kayak        1517    3265    4594    3867    4365    1157\n",
      "triathlon     473     479    1409     871    1101     212\n"
     ]
    }
   ],
   "source": [
    "#solution:\n",
    "All_sports['hr_cal']= (60/(All_sports['RR']/1000)).round(0)\n",
    "df1=pd.merge(All_sports,Athletes,on='ID',how='inner')[['ID','hr_cal','sport','time','age']]\n",
    "for index,row in All_sports.iterrows():\n",
    "    df1['max_HR']= abs(df1['age'].subtract(220))\n",
    "df1.loc[(df1['hr_cal']<=0.5*df1['max_HR']),\"HR ZONE\"]=\"ZONE 0\"    \n",
    "df1.loc[(df1['hr_cal']>=0.5*df1['max_HR']) & (df1['hr_cal']<=0.6*df1['max_HR']),\"HR ZONE\"]=\"ZONE 1\"\n",
    "df1.loc[(df1['hr_cal']>=0.6*df1['max_HR']) & (df1['hr_cal']<=0.7*df1['max_HR']),\"HR ZONE\"]=\"ZONE 2\"\n",
    "df1.loc[(df1['hr_cal']>=0.7*df1['max_HR']) & (df1['hr_cal']<=0.8*df1['max_HR']),\"HR ZONE\"]=\"ZONE 3\"\n",
    "df1.loc[(df1['hr_cal']>=0.8*df1['max_HR']) & (df1['hr_cal']<=0.9*df1['max_HR']),\"HR ZONE\"]=\"ZONE 4\"\n",
    "df1.loc[(df1['hr_cal']>=0.9*df1['max_HR']) & (df1['hr_cal']<=df1['max_HR']),\"HR ZONE\"]=\"ZONE 5\"\n",
    "result = pd.crosstab(df1['sport'], df1['HR ZONE'])\n",
    "print(result)"
   ]
  },
  {
   "cell_type": "markdown",
   "id": "22272352-f6cd-4927-a710-d8021d086737",
   "metadata": {},
   "source": [
    "### 72.Query: Provide an example of a lambda function that multiplies any 2 input values.\n"
   ]
  },
  {
   "cell_type": "code",
   "execution_count": 54,
   "id": "c1882b07-9e5d-437f-b11b-5971ecfa7d84",
   "metadata": {},
   "outputs": [
    {
     "name": "stdin",
     "output_type": "stream",
     "text": [
      "Enter X value:  4\n",
      "Enter Y value:  5\n"
     ]
    },
    {
     "name": "stdout",
     "output_type": "stream",
     "text": [
      "The multipliaction of the X & Y values: 20.0\n"
     ]
    }
   ],
   "source": [
    "#solution:\n",
    "multi=lambda X,Y:X*Y\n",
    "X = float(input('Enter X value: '))\n",
    "Y = float(input('Enter Y value: '))\n",
    "result = multi(X, Y)\n",
    "print(\"The multipliaction of the X & Y values:\", result)"
   ]
  },
  {
   "cell_type": "markdown",
   "id": "4cae4822-dbe5-4d87-bb13-fc263810f3d5",
   "metadata": {},
   "source": [
    "### 73.Query:How long was athlete 17s warm up\n"
   ]
  },
  {
   "cell_type": "code",
   "execution_count": 62,
   "id": "ca94795d-f6aa-452e-8280-1177e868e64e",
   "metadata": {},
   "outputs": [
    {
     "name": "stdout",
     "output_type": "stream",
     "text": [
      "182.408 Seconds long was athlete 17s warm up\n"
     ]
    }
   ],
   "source": [
    "#solution:\n",
    "df1=All_sports.loc[(All_sports['time']<=0)&(All_sports['ID']==17)].reset_index()\n",
    "df2=df1['time'].max()-df1['time'].min()\n",
    "print(df2,\"Seconds long was athlete 17s warm up\")"
   ]
  },
  {
   "cell_type": "markdown",
   "id": "9a3de27a-f118-4b0b-b387-84c1604e8074",
   "metadata": {},
   "source": [
    "### 74 Query: Take a students full name and reverse it using a for loop"
   ]
  },
  {
   "cell_type": "code",
   "execution_count": 109,
   "id": "a87254f2-f75b-43fa-8602-0f86da9b615a",
   "metadata": {},
   "outputs": [
    {
     "name": "stdout",
     "output_type": "stream",
     "text": [
      "    ID         full_name           reverse\n",
      "0    1   Olivia Martinez   zenitraM aivilO\n",
      "1    2    Ethan Reynolds    sdlonyeR nahtE\n",
      "2    3    Jackson Harper    repraH noskcaJ\n",
      "3    4      Liam Sanchez      zehcnaS maiL\n",
      "4    5      Ava Thompson      nospmohT avA\n",
      "5    6  Sophia Rodriguez  zeugirdoR aihpoS\n",
      "6    7     Grace Simmons     snommiS ecarG\n",
      "7    8     Aiden Bennett     ttenneB nediA\n",
      "8    9       Chloe Price       ecirP eolhC\n",
      "9   10       Lily Jordan       nadroJ yliL\n",
      "10  11  Isabella Griffin  niffirG allebasI\n",
      "11  12       Caleb Dixon       noxiD belaC\n",
      "12  13     Mia Carpenter     retnepraC aiM\n",
      "13  14   Harper Mitchell   llehctiM repraH\n",
      "14  15     Mason Wallace     ecallaW nosaM\n",
      "15  16    Logan Anderson    nosrednA nagoL\n",
      "16  17      Lucas Foster      retsoF sacuL\n",
      "17  18        Owen Myers        sreyM newO\n"
     ]
    }
   ],
   "source": [
    "#solution:\n",
    "Athletes['full_name'] = Athletes['First Name'] + ' ' + Athletes['Last Name']\n",
    "reverse_list=[]\n",
    "for names in Athletes['full_name']:\n",
    "    reverse_name=\"\"\n",
    "    for char in names:\n",
    "         reverse_name= char + reverse_name\n",
    "    reverse_list.append(reverse_name)\n",
    "Athletes['reverse']=reverse_list     \n",
    "print(Athletes[['ID','full_name','reverse']])     "
   ]
  },
  {
   "cell_type": "markdown",
   "id": "4b52cac8-13a5-4a09-bd30-b6bb11a8cb12",
   "metadata": {},
   "source": [
    "### 75 Query:What was the maximum heart rate recorded during the test. Which athlete did it belong to? Display name, sport and HR"
   ]
  },
  {
   "cell_type": "code",
   "execution_count": 69,
   "id": "9220b43e-0292-4c3b-ac20-83fb85c37939",
   "metadata": {},
   "outputs": [
    {
     "name": "stdout",
     "output_type": "stream",
     "text": [
      "   index  ID      full_name    sport          HR\n",
      "0  44041   7  Grace Simmons  fencing  238.095238\n"
     ]
    }
   ],
   "source": [
    "#solution:\n",
    "Athletes['full_name'] = Athletes['First Name'] + ' ' + Athletes['Last Name']\n",
    "All_sports['HR']= (60/(All_sports['RR']/1000))\n",
    "df1=pd.merge(All_sports,Athletes,on='ID',how='inner')[['ID','full_name','sport','HR']]\n",
    "df2=df1.loc[(df1['HR']==df1['HR'].max())].reset_index()\n",
    "print(df2)\n"
   ]
  },
  {
   "cell_type": "markdown",
   "id": "5cc26e51-c141-47f2-aede-26b4335ec7c3",
   "metadata": {},
   "source": [
    "#### 76 Query: np.arange(1,31).reshape(6,5),find array slicing to get the elements 2,5,13,25,30."
   ]
  },
  {
   "cell_type": "code",
   "execution_count": 101,
   "id": "7feb69e4-571b-49ab-905f-5435cfe2d9ae",
   "metadata": {},
   "outputs": [
    {
     "name": "stdout",
     "output_type": "stream",
     "text": [
      "[[ 1  2  3  4  5]\n",
      " [ 6  7  8  9 10]\n",
      " [11 12 13 14 15]\n",
      " [16 17 18 19 20]\n",
      " [21 22 23 24 25]\n",
      " [26 27 28 29 30]]\n",
      "2 , 5 , 13 , 25 , 30\n"
     ]
    }
   ],
   "source": [
    "#solution:\n",
    "x= np.arange(1,31).reshape(6,5)\n",
    "print(x)\n",
    "print(x[0][1],\",\",x[0][4],\",\",x[2][2],\",\",x[4][4],\",\",x[5][4])"
   ]
  },
  {
   "cell_type": "code",
   "execution_count": 75,
   "id": "18ecd81a-6ab8-4849-aad7-f500c4ede46c",
   "metadata": {},
   "outputs": [],
   "source": [
    "### 77 Query:"
   ]
  },
  {
   "cell_type": "code",
   "execution_count": 77,
   "id": "8e0d6b27-a820-4b69-9b95-5740cfbf91f2",
   "metadata": {},
   "outputs": [],
   "source": [
    "#solution:"
   ]
  },
  {
   "cell_type": "code",
   "execution_count": 79,
   "id": "bfd19d2b-0a40-4d82-b21d-efd14d55c8d5",
   "metadata": {},
   "outputs": [],
   "source": [
    "### 78 Query:"
   ]
  },
  {
   "cell_type": "code",
   "execution_count": 81,
   "id": "887bab58-d51e-4da2-8cb0-860442568625",
   "metadata": {},
   "outputs": [],
   "source": [
    "#solution:"
   ]
  },
  {
   "cell_type": "code",
   "execution_count": 83,
   "id": "0ef41d6f-09d2-435f-900f-03e8d2f2da86",
   "metadata": {},
   "outputs": [],
   "source": [
    "###79 Query:"
   ]
  },
  {
   "cell_type": "code",
   "execution_count": 85,
   "id": "25b0c842-04df-46a3-9847-778e20136131",
   "metadata": {},
   "outputs": [],
   "source": [
    "#solution:"
   ]
  },
  {
   "cell_type": "markdown",
   "id": "6b25a7df-383e-4344-bf06-d14109bf5e59",
   "metadata": {},
   "source": [
    "##### 80 Query:find the size of a Tuple for any given input"
   ]
  },
  {
   "cell_type": "code",
   "execution_count": 97,
   "id": "b02c6f0c-d764-48dc-9d62-eee225e490f2",
   "metadata": {},
   "outputs": [
    {
     "name": "stdin",
     "output_type": "stream",
     "text": [
      "Enter integers:  1 2 3 5 6 7 8\n"
     ]
    },
    {
     "name": "stdout",
     "output_type": "stream",
     "text": [
      "(1, 2, 3, 5, 6, 7, 8)\n",
      "7 is the tuple length of given input\n"
     ]
    }
   ],
   "source": [
    "#solution:(80 Q)\n",
    "#for integer input\n",
    "result_tuple = tuple(int(item) for item in (input('Enter integers: ')).split())\n",
    "print(result_tuple)\n",
    "print(len(result_tuple),\"is the tuple length of given input\" )"
   ]
  },
  {
   "cell_type": "code",
   "execution_count": 93,
   "id": "8e07a54f-2173-49ff-bc34-bcfbe9bf6578",
   "metadata": {},
   "outputs": [
    {
     "name": "stdin",
     "output_type": "stream",
     "text": [
      "Enter integers:  q 2  4 4.5 -5 *\n"
     ]
    },
    {
     "name": "stdout",
     "output_type": "stream",
     "text": [
      "('q', '2', '4', '4.5', '-5', '*')\n",
      "6 is the tuple length of given input\n"
     ]
    }
   ],
   "source": [
    "# for any input(80Q)\n",
    "result_tuple = tuple((input('Enter integers: ')).split())\n",
    "print(result_tuple)\n",
    "print(len(result_tuple),\"is the tuple length of given input\" )"
   ]
  },
  {
   "cell_type": "code",
   "execution_count": null,
   "id": "edac340e-8644-4742-91a4-98b2b6a26161",
   "metadata": {},
   "outputs": [],
   "source": []
  }
 ],
 "metadata": {
  "kernelspec": {
   "display_name": "Python 3 (ipykernel)",
   "language": "python",
   "name": "python3"
  },
  "language_info": {
   "codemirror_mode": {
    "name": "ipython",
    "version": 3
   },
   "file_extension": ".py",
   "mimetype": "text/x-python",
   "name": "python",
   "nbconvert_exporter": "python",
   "pygments_lexer": "ipython3",
   "version": "3.12.4"
  }
 },
 "nbformat": 4,
 "nbformat_minor": 5
}
